{
 "cells": [
  {
   "cell_type": "code",
   "execution_count": 20,
   "metadata": {},
   "outputs": [],
   "source": [
    "import chromadb"
   ]
  },
  {
   "cell_type": "code",
   "execution_count": 21,
   "metadata": {},
   "outputs": [],
   "source": [
    "COLLECTION_NAME = \"devday-rag\"\n",
    "\n",
    "client = chromadb.PersistentClient()\n",
    "collection = client.get_collection(COLLECTION_NAME)"
   ]
  },
  {
   "cell_type": "code",
   "execution_count": 22,
   "metadata": {},
   "outputs": [
    {
     "data": {
      "text/plain": [
       "776"
      ]
     },
     "execution_count": 22,
     "metadata": {},
     "output_type": "execute_result"
    }
   ],
   "source": [
    "\n",
    "collection.count()"
   ]
  },
  {
   "cell_type": "code",
   "execution_count": null,
   "metadata": {},
   "outputs": [
    {
     "data": {
      "text/plain": [
       "{'ids': [['441',\n",
       "   '458',\n",
       "   '474',\n",
       "   '406',\n",
       "   '510',\n",
       "   '318',\n",
       "   '317',\n",
       "   '506',\n",
       "   '313',\n",
       "   '496']],\n",
       " 'embeddings': None,\n",
       " 'documents': [['light at the end of the pit lane is green and on their own responsibility. A marshal with a\\nblue flag and/or a flashing blue light, will also warn the driver if cars are approaching on\\nthe track.\\n\\n**54)** **INCIDENTS DURING THE SPRINT SESSION OR THE RACE**\\n\\n**54.1 The Race Director may report any on-track incident or suspected breach of these**',\n",
       "   'DEPLOYED” will be sent to all Competitors via the official messaging system, all FIA\\nlight panels will display “SC” and all marshal’s posts will display waved yellow flags and\\n“SC” boards for the duration of the intervention.\\n\\n**55.5 No car may be driven unnecessarily slowly, erratically or in a manner which could be**',\n",
       "   'As the safety car is approaching the pit entry the SC boards will be withdrawn and, other\\nthan on the last lap of the sprint session or the race, as the leader approaches the Line\\nthe yellow flags will be withdrawn and a green flag and/or green light panel will be\\ndisplayed at the Line.\\n\\n**55.15 Each lap completed while the safety car is deployed will be counted as a sprint session**',\n",
       "   'If any driver needs assistance after the fifteen (15) second signal he must raise his arm\\nand, when the remainder of the cars able to do so have left the grid, marshals will be\\ninstructed to push the car into the pit lane.\\n\\nIn either of the above cases, marshals with yellow flags will stand beside any car (or\\ncars) concerned to warn drivers behind.\\n\\n\\n-----\\n\\n**44.7 When the green lights are illuminated, all cars on the grid should begin the formation lap**\\n\\nwith the pole position driver leading.',\n",
       "   'When the clerk of the course decides it is safe to call in the safety car the message\\n“ROLLING START” will be sent to all Competitors using the official messaging system,\\nall FIA light panels will display “RS” and the safety car’s orange lights will be\\nextinguished. This will be the signal to the Competitors and drivers that the safety car\\nwill be entering the pit lane at the end of that lap.',\n",
       "   'defined as the section of track between each of the FIA light panels).',\n",
       "   'a) When the signal is given to stop all cars must immediately reduce speed and\\nproceed slowly back to the pit lane. In order to ensure that drivers reduce speed\\nsufficiently, from the time at which the “RED FLAG” message appears on the\\nofficial messaging system until the time that each car crosses the first safety car\\nline when entering the pit lane, drivers must stay above the minimum time set by\\nthe FIA ECU at least once in each marshalling sector (a marshalling sector is',\n",
       "   'When the clerk of the course decides it is safe to call in the safety car, the message\\n“STANDING START” will be sent to all Competitors using the official messaging system,\\nall FIA light panels will display “SS” and the safety car’s orange lights will be\\nextinguished. This will be the signal to the Competitors and drivers that the safety car\\nwill be entering the pit lane at the end of that lap.',\n",
       "   'Cars may only leave the pit lane when the green light is on. Additionally, a blue flag\\nand/or a flashing blue light will be shown in the pit exit to warn drivers leaving the pit lane\\nif cars are approaching on the track.\\n\\n**37.3 Unless written permission has been given by the FIA to do otherwise, the circuit may**',\n",
       "   'personnel must leave the fast lane by the time the fifteen (15) second signal is given\\ntaking all equipment with them. If any driver needs assistance after the fifteen (15)\\nsecond signal, he must raise his arm and, when the remainder of the cars able to do so\\nhave left the pit lane, marshals will be instructed to push the car into the inner lane. In\\nthis case, marshals with yellow flags will stand beside any car concerned to warn drivers']],\n",
       " 'uris': None,\n",
       " 'data': None,\n",
       " 'metadatas': [[None, None, None, None, None, None, None, None, None, None]],\n",
       " 'distances': [[1.2074165344238281,\n",
       "   1.276929497718811,\n",
       "   1.3320128917694092,\n",
       "   1.3969779014587402,\n",
       "   1.407077431678772,\n",
       "   1.414969563484192,\n",
       "   1.4167068004608154,\n",
       "   1.4197471141815186,\n",
       "   1.432133674621582,\n",
       "   1.4531006813049316]],\n",
       " 'included': [<IncludeEnum.distances: 'distances'>,\n",
       "  <IncludeEnum.documents: 'documents'>,\n",
       "  <IncludeEnum.metadatas: 'metadatas'>]}"
      ]
     },
     "execution_count": 23,
     "metadata": {},
     "output_type": "execute_result"
    }
   ],
   "source": [
    "question = \"What does the blug flag mean ?\"\n",
    "results = collection.query(query_texts=[question])\n",
    "results"
   ]
  },
  {
   "cell_type": "code",
   "execution_count": 24,
   "metadata": {},
   "outputs": [
    {
     "name": "stdout",
     "output_type": "stream",
     "text": [
      "light at the end of the pit lane is green and on their own responsibility. A marshal with a\n",
      "blue flag and/or a flashing blue light, will also warn the driver if cars are approaching on\n",
      "the track.\n",
      "\n",
      "**54)** **INCIDENTS DURING THE SPRINT SESSION OR THE RACE**\n",
      "\n",
      "**54.1 The Race Director may report any on-track incident or suspected breach of these**\n",
      "DEPLOYED” will be sent to all Competitors via the official messaging system, all FIA\n",
      "light panels will display “SC” and all marshal’s posts will display waved yellow flags and\n",
      "“SC” boards for the duration of the intervention.\n",
      "\n",
      "**55.5 No car may be driven unnecessarily slowly, erratically or in a manner which could be**\n",
      "As the safety car is approaching the pit entry the SC boards will be withdrawn and, other\n",
      "than on the last lap of the sprint session or the race, as the leader approaches the Line\n",
      "the yellow flags will be withdrawn and a green flag and/or green light panel will be\n",
      "displayed at the Line.\n",
      "\n",
      "**55.15 Each lap completed while the safety car is deployed will be counted as a sprint session**\n",
      "If any driver needs assistance after the fifteen (15) second signal he must raise his arm\n",
      "and, when the remainder of the cars able to do so have left the grid, marshals will be\n",
      "instructed to push the car into the pit lane.\n",
      "\n",
      "In either of the above cases, marshals with yellow flags will stand beside any car (or\n",
      "cars) concerned to warn drivers behind.\n",
      "\n",
      "\n",
      "-----\n",
      "\n",
      "**44.7 When the green lights are illuminated, all cars on the grid should begin the formation lap**\n",
      "\n",
      "with the pole position driver leading.\n",
      "When the clerk of the course decides it is safe to call in the safety car the message\n",
      "“ROLLING START” will be sent to all Competitors using the official messaging system,\n",
      "all FIA light panels will display “RS” and the safety car’s orange lights will be\n",
      "extinguished. This will be the signal to the Competitors and drivers that the safety car\n",
      "will be entering the pit lane at the end of that lap.\n",
      "defined as the section of track between each of the FIA light panels).\n",
      "a) When the signal is given to stop all cars must immediately reduce speed and\n",
      "proceed slowly back to the pit lane. In order to ensure that drivers reduce speed\n",
      "sufficiently, from the time at which the “RED FLAG” message appears on the\n",
      "official messaging system until the time that each car crosses the first safety car\n",
      "line when entering the pit lane, drivers must stay above the minimum time set by\n",
      "the FIA ECU at least once in each marshalling sector (a marshalling sector is\n",
      "When the clerk of the course decides it is safe to call in the safety car, the message\n",
      "“STANDING START” will be sent to all Competitors using the official messaging system,\n",
      "all FIA light panels will display “SS” and the safety car’s orange lights will be\n",
      "extinguished. This will be the signal to the Competitors and drivers that the safety car\n",
      "will be entering the pit lane at the end of that lap.\n",
      "Cars may only leave the pit lane when the green light is on. Additionally, a blue flag\n",
      "and/or a flashing blue light will be shown in the pit exit to warn drivers leaving the pit lane\n",
      "if cars are approaching on the track.\n",
      "\n",
      "**37.3 Unless written permission has been given by the FIA to do otherwise, the circuit may**\n",
      "personnel must leave the fast lane by the time the fifteen (15) second signal is given\n",
      "taking all equipment with them. If any driver needs assistance after the fifteen (15)\n",
      "second signal, he must raise his arm and, when the remainder of the cars able to do so\n",
      "have left the pit lane, marshals will be instructed to push the car into the inner lane. In\n",
      "this case, marshals with yellow flags will stand beside any car concerned to warn drivers\n"
     ]
    }
   ],
   "source": [
    "context = \"\\n\".join(results['documents'][0])\n",
    "print(context)"
   ]
  }
 ],
 "metadata": {
  "kernelspec": {
   "display_name": "devday-user-Mow9uqej-py3.12",
   "language": "python",
   "name": "python3"
  },
  "language_info": {
   "codemirror_mode": {
    "name": "ipython",
    "version": 3
   },
   "file_extension": ".py",
   "mimetype": "text/x-python",
   "name": "python",
   "nbconvert_exporter": "python",
   "pygments_lexer": "ipython3",
   "version": "3.12.3"
  }
 },
 "nbformat": 4,
 "nbformat_minor": 2
}
