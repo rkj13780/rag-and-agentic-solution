{
 "cells": [
  {
   "cell_type": "code",
   "execution_count": 6,
   "metadata": {},
   "outputs": [
    {
     "data": {
      "text/plain": [
       "True"
      ]
     },
     "execution_count": 6,
     "metadata": {},
     "output_type": "execute_result"
    }
   ],
   "source": [
    "from dotenv import load_dotenv\n",
    "\n",
    "load_dotenv()"
   ]
  },
  {
   "cell_type": "markdown",
   "metadata": {},
   "source": [
    "## Using OLLAMA self hosted"
   ]
  },
  {
   "cell_type": "code",
   "execution_count": null,
   "metadata": {},
   "outputs": [
    {
     "data": {
      "text/plain": [
       "\"In Formula 1 (F1), the Blue Flag is a warning system used to indicate that the track conditions are about to change, typically due to rain or other inclement weather. It's a visual alert given to drivers through a blue flag waved by marshals on the track.\\n\\nHere's what it means:\\n\\n* When a driver sees the Blue Flag being waved at them, it means they're approaching a section of the track where conditions are about to change (e.g., rain is incoming).\\n* The flag alerts the driver to reduce their speed and prepare for the changing conditions.\\n* It's not an instruction to slow down immediately, but rather a warning to adjust their pace accordingly.\\n\\nThe Blue Flag is used in conjunction with other flags, such as the yellow flag (caution) or red flag (stop), which are displayed when there's a more severe issue on the track. The combination of these flags helps drivers navigate the track safely and efficiently.\\n\\nSo, if you ever see a Blue Flag waving at an F1 driver, it means they're getting ready to adapt to changing track conditions – usually due to rain!\""
      ]
     },
     "execution_count": 7,
     "metadata": {},
     "output_type": "execute_result"
    }
   ],
   "source": [
    "from langchain.llms import Ollama\n",
    "\n",
    "llm = Ollama(model='llama3.1:8b')\n",
    "llm.invoke(\"what is blue flag in f1 ?\")"
   ]
  },
  {
   "cell_type": "markdown",
   "metadata": {},
   "source": [
    "## Google Gemini chat\n",
    "google gives a generous free tier, grab your API KEY here: https://aistudio.google.com/app/apikey"
   ]
  },
  {
   "cell_type": "code",
   "execution_count": 8,
   "metadata": {},
   "outputs": [
    {
     "data": {
      "text/plain": [
       "\"In Formula 1, a blue flag is a signal given by the race director to a driver to inform them that a faster car is about to lap them.  It's a warning to the slower driver to move over and allow the faster car to pass safely.  Failure to yield promptly can result in penalties, such as a time penalty or even disqualification.\\n\""
      ]
     },
     "execution_count": 8,
     "metadata": {},
     "output_type": "execute_result"
    }
   ],
   "source": [
    "from langchain_google_genai.llms import GoogleGenerativeAI\n",
    "\n",
    "\n",
    "google_llm = GoogleGenerativeAI(model=\"gemini-1.5-flash\")\n",
    "google_llm.invoke(\"what is blue flag in f1 ?\")"
   ]
  },
  {
   "cell_type": "markdown",
   "metadata": {},
   "source": [
    "## Chat GPT\n",
    "Using ChatGPT API"
   ]
  },
  {
   "cell_type": "code",
   "execution_count": 9,
   "metadata": {},
   "outputs": [
    {
     "data": {
      "text/plain": [
       "'\\n\\nThe blue flag in Formula 1 is a signal given to a driver to indicate that they are about to be lapped by a faster car. It is shown by a marshal waving a blue flag with a yellow stripe, and the driver must yield to the faster car and allow it to pass. Failure to comply with the blue flag may result in a penalty.'"
      ]
     },
     "execution_count": 9,
     "metadata": {},
     "output_type": "execute_result"
    }
   ],
   "source": [
    "from langchain_openai.llms import OpenAI\n",
    "\n",
    "open_ai_llm = OpenAI(model=\"gpt-3.5-turbo-instruct\")\n",
    "open_ai_llm.invoke(\"What is blue flag in f1 ?\")"
   ]
  }
 ],
 "metadata": {
  "kernelspec": {
   "display_name": "devday-user-Mow9uqej-py3.12",
   "language": "python",
   "name": "python3"
  },
  "language_info": {
   "codemirror_mode": {
    "name": "ipython",
    "version": 3
   },
   "file_extension": ".py",
   "mimetype": "text/x-python",
   "name": "python",
   "nbconvert_exporter": "python",
   "pygments_lexer": "ipython3",
   "version": "3.12.3"
  }
 },
 "nbformat": 4,
 "nbformat_minor": 2
}
