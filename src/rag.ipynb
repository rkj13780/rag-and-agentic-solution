{
 "cells": [
  {
   "cell_type": "code",
   "execution_count": 3,
   "metadata": {},
   "outputs": [],
   "source": [
    "import chromadb"
   ]
  },
  {
   "cell_type": "code",
   "execution_count": 4,
   "metadata": {},
   "outputs": [],
   "source": [
    "COLLECTION_NAME = \"devday-rag-cosine\"\n",
    "\n",
    "client = chromadb.PersistentClient()\n",
    "collection = client.get_collection(COLLECTION_NAME)\n",
    "\n",
    "\n",
    "question = \"when is a blue flag seen or used ?\"\n",
    "results = collection.query(query_texts=[question])\n",
    "\n",
    "context = \"\\n\".join(results['documents'][0])\n",
    "\n",
    "prompt_template = \"\"\"\n",
    "Answer the question based on the given context only. If you cannot find the answer in the context, just tell that you don't have an answer.\n",
    "\n",
    "Question: {question}\n",
    "\n",
    "Context:\n",
    "{context}\n",
    "\"\"\"\n",
    "\n",
    "prompt = prompt_template.format(question=question, context=context)"
   ]
  },
  {
   "cell_type": "code",
   "execution_count": null,
   "metadata": {},
   "outputs": [
    {
     "name": "stderr",
     "output_type": "stream",
     "text": [
      "/var/folders/xz/5j590gfd4bl31sr7hc0k67w00000gn/T/ipykernel_10551/2643178206.py:3: LangChainDeprecationWarning: The class `Ollama` was deprecated in LangChain 0.3.1 and will be removed in 1.0.0. An updated version of the class exists in the :class:`~langchain-ollama package and should be used instead. To use it run `pip install -U :class:`~langchain-ollama` and import as `from :class:`~langchain_ollama import OllamaLLM``.\n",
      "  llm = Ollama(model='llama3:8b')\n"
     ]
    }
   ],
   "source": [
    "from langchain.llms import Ollama\n",
    "\n",
    "llm = Ollama(model='llama3.1:8b')\n",
    "answer = llm.invoke(prompt)"
   ]
  },
  {
   "cell_type": "code",
   "execution_count": 6,
   "metadata": {},
   "outputs": [
    {
     "name": "stdout",
     "output_type": "stream",
     "text": [
      "Based on the given context, a blue flag is seen or used when:\n",
      "\n",
      "* A marshal with a blue flag and/or a flashing blue light warns a driver if cars are approaching on the track.\n",
      "* The blue flag and/or flashing blue light will be shown in the pit exit to warn drivers leaving the pit lane if cars are approaching on the track.\n",
      "\n",
      "So, a blue flag is seen or used when there is a risk of another car approaching on the track as a driver leaves the pit lane.\n"
     ]
    }
   ],
   "source": [
    "print(answer)"
   ]
  },
  {
   "cell_type": "code",
   "execution_count": 7,
   "metadata": {},
   "outputs": [],
   "source": [
    "from eval import eval_ragas"
   ]
  },
  {
   "cell_type": "code",
   "execution_count": 8,
   "metadata": {},
   "outputs": [
    {
     "name": "stdout",
     "output_type": "stream",
     "text": [
      "calculating answer_relevancy\n",
      "calculating llm_context_precision_without_reference\n",
      "calculating faithfulness\n"
     ]
    },
    {
     "data": {
      "text/plain": [
       "{'answer_relevancy': 0.9848267412348393,\n",
       " 'llm_context_precision_without_reference': 0.99999999999,\n",
       " 'faithfulness': 0.6666666666666666}"
      ]
     },
     "execution_count": 8,
     "metadata": {},
     "output_type": "execute_result"
    }
   ],
   "source": [
    "\n",
    "eval_ragas({\"question\": question, \"contexts\": results['documents'][0], \"answer\": answer})"
   ]
  }
 ],
 "metadata": {
  "kernelspec": {
   "display_name": "devday-user-Mow9uqej-py3.12",
   "language": "python",
   "name": "python3"
  },
  "language_info": {
   "codemirror_mode": {
    "name": "ipython",
    "version": 3
   },
   "file_extension": ".py",
   "mimetype": "text/x-python",
   "name": "python",
   "nbconvert_exporter": "python",
   "pygments_lexer": "ipython3",
   "version": "3.12.3"
  }
 },
 "nbformat": 4,
 "nbformat_minor": 2
}
