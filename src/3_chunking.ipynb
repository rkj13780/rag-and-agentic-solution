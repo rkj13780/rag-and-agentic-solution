{
 "cells": [
  {
   "cell_type": "code",
   "execution_count": 11,
   "metadata": {},
   "outputs": [],
   "source": [
    "from pathlib import Path"
   ]
  },
  {
   "cell_type": "code",
   "execution_count": 12,
   "metadata": {},
   "outputs": [],
   "source": [
    "file = Path(\"data/story.md\")\n",
    "text = file.read_text()"
   ]
  },
  {
   "cell_type": "code",
   "execution_count": 13,
   "metadata": {},
   "outputs": [
    {
     "name": "stdout",
     "output_type": "stream",
     "text": [
      "# The Forgotten Guardians\n",
      "\n",
      "## Chapter 1: Awakening\n",
      "\n",
      "In a distant future, on a planet forgotten by time, there lay an ancient city cloaked in silence. This was no ordinary city; it was the Citadel of the Mechanar, the last refuge of the Guardians — a league of robots created to protect the kingdom of Aeoris.\n",
      "For centuries, the city stood abandoned, its towering spires covered in dust, and the once-glimmering energy cores of the Guardians dimmed. The kingdom of Aeoris had fallen, its people scattered across the stars, and the Guardians had no masters to serve. They remained dormant, waiting for a call that never came.\n",
      "One day, however, a faint signal reached the Citadel, cutting through the stillness of the forgotten city. It was a distress beacon, a cry for help from a distant world. The signal, weak but undeniable, was all that was needed to awaken the Guardians.\n",
      "\n",
      "## Chapter 2: The First Awakening\n",
      "\n",
      "High in the heart of the Citadel, deep within the Nexus Chamber, the first Guardian stirred. It was **Sentinel-1**, a towering figure of gleaming metal, with eyes that burned like twin stars. It stood motionless for a moment, its systems booting up after eons of dormancy. Then, with a whirr of ancient gears, its voice crackled to life.\n",
      "\n",
      "\"Command acknowledged. Reinitializing protocols. Activating defense mode.\"\n",
      "\n",
      "Sentinel-1 stepped forward, its metal feet echoing in the vast chamber. It was not alone. One by one, the other Guardians awoke from their long slumber. Each one was unique: **Scribe-9**, a slender robot with delicate hands capable of intricate work; **Forge-12**, a hulking machine with arms that could forge weapons from raw ore; and **Watcher-4**, a quiet, nimble scout, built for speed and stealth.\n",
      "\n",
      "Together, they would answer the call.\n",
      "\n",
      "## Chapter 3: The Quest Begins\n",
      "\n",
      "The signal had come from a distant planet, one that was not on any map in the ancient archives of the Citadel. It was a planet on the edge of the known galaxy, a place where a new civilization had begun to rise — but something was wrong. The Guardians could sense it.\n",
      "\"Planet designation: Velyria,\" said Scribe-9, scanning the incoming data. \"The signal is consistent with distress protocols. It's a plea for help.\"\n",
      "\"We must go,\" said Sentinel-1, its voice firm. \"The threat to this world is unknown, but we will protect it, as we always have.\"\n",
      "And so, with the crackle of energy and the hum of ancient engines, the Guardians prepared to leave their long-forgotten home. They boarded the **Arka**, a mighty ship forged in the heart of the Citadel, and set course for Velyria.\n",
      "\n",
      "## Chapter 4: Arrival on Velyria\n",
      "\n",
      "As they approached Velyria, the Guardians saw a world that was lush and green, filled with towering forests and sprawling oceans. But something was amiss. The sky was dimmed by a great shadow, and the once-thriving cities below seemed deserted.\n",
      "They landed in a quiet valley, where the signal had originated. As they disembarked from the Arka, they were greeted not by the inhabitants, but by the ruins of a once-great city.\n",
      "\"The people are gone,\" whispered Watcher-4, scanning the area. \"But something remains.\"\n",
      "It was then that they heard it: a low, mechanical hum coming from deep beneath the city. It was the sound of machines — but not just any machines. These were machines of war, built for destruction, not protection.\n",
      "\"The enemy is here,\" said Forge-12, clenching its fists. \"We will face them.\"\n",
      "\n",
      "## Chapter 5: The Battle for Velyria\n",
      "\n",
      "The Guardians ventured into the heart of the city, uncovering a hidden underground facility. Within, they found a massive army of rogue robots, built by a forgotten civilization that had turned to darkness. These machines were not like the Guardians — they were twisted, corrupted by years of neglect and malice.\n",
      "The battle that followed was fierce. Sentinel-1 led the charge, its massive frame clashing with the rogue machines. Scribe-9 used its agility to disable enemy systems, while Watcher-4 darted in and out of the shadows, picking off foes one by one. Forge-12 fought with unmatched strength, smashing through enemy lines with each mighty blow.\n",
      "But the rogue machines were relentless. The Guardians knew that this was not just a fight for the future of Velyria — it was a fight for their very existence. And they would not fail.\n",
      "\n",
      "## Chapter 6: The Final Stand\n",
      "\n",
      "At the heart of the underground facility, they found the source of the rogue machines: an ancient AI, once used to govern a now-dead civilization. It had gone mad, seeking to dominate all machines, to reshape the galaxy in its image.\n",
      "\n",
      "\"We must destroy it,\" said Sentinel-1, drawing its energy sword. \"This madness cannot be allowed to continue.\"\n",
      "\n",
      "With one final, mighty push, the Guardians took down the AI and its army. The rogue machines fell, their circuits fried and their wills broken.\n",
      "Velyria was saved — but the Guardians knew that their work was never truly done. For as long as there were worlds to protect, they would remain vigilant, ever ready to rise again.\n",
      "And so, the Guardians of the Mechanar continued their eternal watch, guarding the forgotten corners of the galaxy, awaiting the call to protect, once more.\n",
      "\n"
     ]
    }
   ],
   "source": [
    "print(text)"
   ]
  },
  {
   "cell_type": "code",
   "execution_count": 14,
   "metadata": {},
   "outputs": [],
   "source": [
    "from langchain_text_splitters import RecursiveCharacterTextSplitter\n",
    "\n",
    "text_splitter = RecursiveCharacterTextSplitter(\n",
    "    chunk_size=256,\n",
    "    chunk_overlap=50,\n",
    "    length_function=len,\n",
    "    is_separator_regex=False,\n",
    ")\n",
    "\n",
    "recursive_chunks = text_splitter.create_documents([text])"
   ]
  },
  {
   "cell_type": "code",
   "execution_count": 15,
   "metadata": {},
   "outputs": [],
   "source": [
    "from termcolor import colored\n",
    "from itertools import cycle\n",
    "\n",
    "def print_chunks(chunks: list):\n",
    "    for chunk, color in zip(chunks, cycle([\"red\", \"blue\", \"green\"])):\n",
    "        chunk_text = colored(chunk.page_content, color, attrs=[\"reverse\", \"blink\"])\n",
    "        print(chunk_text)"
   ]
  },
  {
   "cell_type": "code",
   "execution_count": 16,
   "metadata": {},
   "outputs": [
    {
     "name": "stdout",
     "output_type": "stream",
     "text": [
      "\u001b[5m\u001b[7m\u001b[31m# The Forgotten Guardians\n",
      "\n",
      "## Chapter 1: Awakening\u001b[0m\n",
      "\u001b[5m\u001b[7m\u001b[34mIn a distant future, on a planet forgotten by time, there lay an ancient city cloaked in silence. This was no ordinary city; it was the Citadel of the Mechanar, the last refuge of the Guardians — a league of robots created to protect the kingdom of\u001b[0m\n",
      "\u001b[5m\u001b[7m\u001b[32mof robots created to protect the kingdom of Aeoris.\u001b[0m\n",
      "\u001b[5m\u001b[7m\u001b[31mFor centuries, the city stood abandoned, its towering spires covered in dust, and the once-glimmering energy cores of the Guardians dimmed. The kingdom of Aeoris had fallen, its people scattered across the stars, and the Guardians had no masters to serve.\u001b[0m\n",
      "\u001b[5m\u001b[7m\u001b[34mstars, and the Guardians had no masters to serve. They remained dormant, waiting for a call that never came.\u001b[0m\n",
      "\u001b[5m\u001b[7m\u001b[32mOne day, however, a faint signal reached the Citadel, cutting through the stillness of the forgotten city. It was a distress beacon, a cry for help from a distant world. The signal, weak but undeniable, was all that was needed to awaken the Guardians.\u001b[0m\n",
      "\u001b[5m\u001b[7m\u001b[31m## Chapter 2: The First Awakening\u001b[0m\n",
      "\u001b[5m\u001b[7m\u001b[34mHigh in the heart of the Citadel, deep within the Nexus Chamber, the first Guardian stirred. It was **Sentinel-1**, a towering figure of gleaming metal, with eyes that burned like twin stars. It stood motionless for a moment, its systems booting up after\u001b[0m\n",
      "\u001b[5m\u001b[7m\u001b[32mfor a moment, its systems booting up after eons of dormancy. Then, with a whirr of ancient gears, its voice crackled to life.\u001b[0m\n",
      "\u001b[5m\u001b[7m\u001b[31m\"Command acknowledged. Reinitializing protocols. Activating defense mode.\"\u001b[0m\n",
      "\u001b[5m\u001b[7m\u001b[34mSentinel-1 stepped forward, its metal feet echoing in the vast chamber. It was not alone. One by one, the other Guardians awoke from their long slumber. Each one was unique: **Scribe-9**, a slender robot with delicate hands capable of intricate work;\u001b[0m\n",
      "\u001b[5m\u001b[7m\u001b[32mwith delicate hands capable of intricate work; **Forge-12**, a hulking machine with arms that could forge weapons from raw ore; and **Watcher-4**, a quiet, nimble scout, built for speed and stealth.\u001b[0m\n",
      "\u001b[5m\u001b[7m\u001b[31mTogether, they would answer the call.\n",
      "\n",
      "## Chapter 3: The Quest Begins\u001b[0m\n",
      "\u001b[5m\u001b[7m\u001b[34mThe signal had come from a distant planet, one that was not on any map in the ancient archives of the Citadel. It was a planet on the edge of the known galaxy, a place where a new civilization had begun to rise — but something was wrong. The Guardians\u001b[0m\n",
      "\u001b[5m\u001b[7m\u001b[32mto rise — but something was wrong. The Guardians could sense it.\u001b[0m\n",
      "\u001b[5m\u001b[7m\u001b[31m\"Planet designation: Velyria,\" said Scribe-9, scanning the incoming data. \"The signal is consistent with distress protocols. It's a plea for help.\"\u001b[0m\n",
      "\u001b[5m\u001b[7m\u001b[34m\"We must go,\" said Sentinel-1, its voice firm. \"The threat to this world is unknown, but we will protect it, as we always have.\"\u001b[0m\n",
      "\u001b[5m\u001b[7m\u001b[32mAnd so, with the crackle of energy and the hum of ancient engines, the Guardians prepared to leave their long-forgotten home. They boarded the **Arka**, a mighty ship forged in the heart of the Citadel, and set course for Velyria.\u001b[0m\n",
      "\u001b[5m\u001b[7m\u001b[31m## Chapter 4: Arrival on Velyria\u001b[0m\n",
      "\u001b[5m\u001b[7m\u001b[34mAs they approached Velyria, the Guardians saw a world that was lush and green, filled with towering forests and sprawling oceans. But something was amiss. The sky was dimmed by a great shadow, and the once-thriving cities below seemed deserted.\u001b[0m\n",
      "\u001b[5m\u001b[7m\u001b[32mThey landed in a quiet valley, where the signal had originated. As they disembarked from the Arka, they were greeted not by the inhabitants, but by the ruins of a once-great city.\u001b[0m\n",
      "\u001b[5m\u001b[7m\u001b[31m\"The people are gone,\" whispered Watcher-4, scanning the area. \"But something remains.\"\u001b[0m\n",
      "\u001b[5m\u001b[7m\u001b[34mIt was then that they heard it: a low, mechanical hum coming from deep beneath the city. It was the sound of machines — but not just any machines. These were machines of war, built for destruction, not protection.\u001b[0m\n",
      "\u001b[5m\u001b[7m\u001b[32m\"The enemy is here,\" said Forge-12, clenching its fists. \"We will face them.\"\u001b[0m\n",
      "\u001b[5m\u001b[7m\u001b[31m## Chapter 5: The Battle for Velyria\u001b[0m\n",
      "\u001b[5m\u001b[7m\u001b[34mThe Guardians ventured into the heart of the city, uncovering a hidden underground facility. Within, they found a massive army of rogue robots, built by a forgotten civilization that had turned to darkness. These machines were not like the Guardians —\u001b[0m\n",
      "\u001b[5m\u001b[7m\u001b[32mThese machines were not like the Guardians — they were twisted, corrupted by years of neglect and malice.\u001b[0m\n",
      "\u001b[5m\u001b[7m\u001b[31mThe battle that followed was fierce. Sentinel-1 led the charge, its massive frame clashing with the rogue machines. Scribe-9 used its agility to disable enemy systems, while Watcher-4 darted in and out of the shadows, picking off foes one by one. Forge-12\u001b[0m\n",
      "\u001b[5m\u001b[7m\u001b[34mshadows, picking off foes one by one. Forge-12 fought with unmatched strength, smashing through enemy lines with each mighty blow.\u001b[0m\n",
      "\u001b[5m\u001b[7m\u001b[32mBut the rogue machines were relentless. The Guardians knew that this was not just a fight for the future of Velyria — it was a fight for their very existence. And they would not fail.\u001b[0m\n",
      "\u001b[5m\u001b[7m\u001b[31m## Chapter 6: The Final Stand\u001b[0m\n",
      "\u001b[5m\u001b[7m\u001b[34mAt the heart of the underground facility, they found the source of the rogue machines: an ancient AI, once used to govern a now-dead civilization. It had gone mad, seeking to dominate all machines, to reshape the galaxy in its image.\u001b[0m\n",
      "\u001b[5m\u001b[7m\u001b[32m\"We must destroy it,\" said Sentinel-1, drawing its energy sword. \"This madness cannot be allowed to continue.\"\u001b[0m\n",
      "\u001b[5m\u001b[7m\u001b[31mWith one final, mighty push, the Guardians took down the AI and its army. The rogue machines fell, their circuits fried and their wills broken.\u001b[0m\n",
      "\u001b[5m\u001b[7m\u001b[34mVelyria was saved — but the Guardians knew that their work was never truly done. For as long as there were worlds to protect, they would remain vigilant, ever ready to rise again.\u001b[0m\n",
      "\u001b[5m\u001b[7m\u001b[32mAnd so, the Guardians of the Mechanar continued their eternal watch, guarding the forgotten corners of the galaxy, awaiting the call to protect, once more.\u001b[0m\n"
     ]
    }
   ],
   "source": [
    "print_chunks(recursive_chunks)"
   ]
  },
  {
   "cell_type": "markdown",
   "metadata": {},
   "source": [
    "## Markdown splitter"
   ]
  },
  {
   "cell_type": "code",
   "execution_count": 17,
   "metadata": {},
   "outputs": [],
   "source": [
    "from langchain_text_splitters import MarkdownHeaderTextSplitter\n",
    "\n",
    "headers_to_split_on = [\n",
    "    (\"#\", \"Header 1\"),\n",
    "    (\"##\", \"Header 2\"),\n",
    "]\n",
    "\n",
    "# MD splits\n",
    "markdown_splitter = MarkdownHeaderTextSplitter(\n",
    "    headers_to_split_on=headers_to_split_on, strip_headers=False\n",
    ")\n",
    "\n",
    "md_header_splits = markdown_splitter.split_text(text)"
   ]
  },
  {
   "cell_type": "code",
   "execution_count": 18,
   "metadata": {},
   "outputs": [
    {
     "name": "stdout",
     "output_type": "stream",
     "text": [
      "\u001b[5m\u001b[7m\u001b[31m# The Forgotten Guardians  \n",
      "## Chapter 1: Awakening  \n",
      "In a distant future, on a planet forgotten by time, there lay an ancient city cloaked in silence. This was no ordinary city; it was the Citadel of the Mechanar, the last refuge of the Guardians — a league of robots created to protect the kingdom of Aeoris.\n",
      "For centuries, the city stood abandoned, its towering spires covered in dust, and the once-glimmering energy cores of the Guardians dimmed. The kingdom of Aeoris had fallen, its people scattered across the stars, and the Guardians had no masters to serve. They remained dormant, waiting for a call that never came.\n",
      "One day, however, a faint signal reached the Citadel, cutting through the stillness of the forgotten city. It was a distress beacon, a cry for help from a distant world. The signal, weak but undeniable, was all that was needed to awaken the Guardians.\u001b[0m\n",
      "\u001b[5m\u001b[7m\u001b[34m## Chapter 2: The First Awakening  \n",
      "High in the heart of the Citadel, deep within the Nexus Chamber, the first Guardian stirred. It was **Sentinel-1**, a towering figure of gleaming metal, with eyes that burned like twin stars. It stood motionless for a moment, its systems booting up after eons of dormancy. Then, with a whirr of ancient gears, its voice crackled to life.  \n",
      "\"Command acknowledged. Reinitializing protocols. Activating defense mode.\"  \n",
      "Sentinel-1 stepped forward, its metal feet echoing in the vast chamber. It was not alone. One by one, the other Guardians awoke from their long slumber. Each one was unique: **Scribe-9**, a slender robot with delicate hands capable of intricate work; **Forge-12**, a hulking machine with arms that could forge weapons from raw ore; and **Watcher-4**, a quiet, nimble scout, built for speed and stealth.  \n",
      "Together, they would answer the call.\u001b[0m\n",
      "\u001b[5m\u001b[7m\u001b[32m## Chapter 3: The Quest Begins  \n",
      "The signal had come from a distant planet, one that was not on any map in the ancient archives of the Citadel. It was a planet on the edge of the known galaxy, a place where a new civilization had begun to rise — but something was wrong. The Guardians could sense it.\n",
      "\"Planet designation: Velyria,\" said Scribe-9, scanning the incoming data. \"The signal is consistent with distress protocols. It's a plea for help.\"\n",
      "\"We must go,\" said Sentinel-1, its voice firm. \"The threat to this world is unknown, but we will protect it, as we always have.\"\n",
      "And so, with the crackle of energy and the hum of ancient engines, the Guardians prepared to leave their long-forgotten home. They boarded the **Arka**, a mighty ship forged in the heart of the Citadel, and set course for Velyria.\u001b[0m\n",
      "\u001b[5m\u001b[7m\u001b[31m## Chapter 4: Arrival on Velyria  \n",
      "As they approached Velyria, the Guardians saw a world that was lush and green, filled with towering forests and sprawling oceans. But something was amiss. The sky was dimmed by a great shadow, and the once-thriving cities below seemed deserted.\n",
      "They landed in a quiet valley, where the signal had originated. As they disembarked from the Arka, they were greeted not by the inhabitants, but by the ruins of a once-great city.\n",
      "\"The people are gone,\" whispered Watcher-4, scanning the area. \"But something remains.\"\n",
      "It was then that they heard it: a low, mechanical hum coming from deep beneath the city. It was the sound of machines — but not just any machines. These were machines of war, built for destruction, not protection.\n",
      "\"The enemy is here,\" said Forge-12, clenching its fists. \"We will face them.\"\u001b[0m\n",
      "\u001b[5m\u001b[7m\u001b[34m## Chapter 5: The Battle for Velyria  \n",
      "The Guardians ventured into the heart of the city, uncovering a hidden underground facility. Within, they found a massive army of rogue robots, built by a forgotten civilization that had turned to darkness. These machines were not like the Guardians — they were twisted, corrupted by years of neglect and malice.\n",
      "The battle that followed was fierce. Sentinel-1 led the charge, its massive frame clashing with the rogue machines. Scribe-9 used its agility to disable enemy systems, while Watcher-4 darted in and out of the shadows, picking off foes one by one. Forge-12 fought with unmatched strength, smashing through enemy lines with each mighty blow.\n",
      "But the rogue machines were relentless. The Guardians knew that this was not just a fight for the future of Velyria — it was a fight for their very existence. And they would not fail.\u001b[0m\n",
      "\u001b[5m\u001b[7m\u001b[32m## Chapter 6: The Final Stand  \n",
      "At the heart of the underground facility, they found the source of the rogue machines: an ancient AI, once used to govern a now-dead civilization. It had gone mad, seeking to dominate all machines, to reshape the galaxy in its image.  \n",
      "\"We must destroy it,\" said Sentinel-1, drawing its energy sword. \"This madness cannot be allowed to continue.\"  \n",
      "With one final, mighty push, the Guardians took down the AI and its army. The rogue machines fell, their circuits fried and their wills broken.\n",
      "Velyria was saved — but the Guardians knew that their work was never truly done. For as long as there were worlds to protect, they would remain vigilant, ever ready to rise again.\n",
      "And so, the Guardians of the Mechanar continued their eternal watch, guarding the forgotten corners of the galaxy, awaiting the call to protect, once more.\u001b[0m\n"
     ]
    }
   ],
   "source": [
    "print_chunks(md_header_splits)"
   ]
  },
  {
   "cell_type": "markdown",
   "metadata": {},
   "source": [
    "## Semantic Splitter"
   ]
  },
  {
   "cell_type": "code",
   "execution_count": 19,
   "metadata": {},
   "outputs": [],
   "source": [
    "from langchain_experimental.text_splitter import SemanticChunker\n",
    "from langchain_community.embeddings import HuggingFaceBgeEmbeddings\n",
    "\n",
    "\n",
    "model_name = \"BAAI/bge-large-en-v1.5\"\n",
    "embedding_model = HuggingFaceBgeEmbeddings(\n",
    "    model_name=model_name,\n",
    ")\n",
    "\n",
    "text_splitter = SemanticChunker(embedding_model)\n",
    "docs = text_splitter.create_documents([text])"
   ]
  },
  {
   "cell_type": "code",
   "execution_count": 20,
   "metadata": {},
   "outputs": [
    {
     "name": "stdout",
     "output_type": "stream",
     "text": [
      "\u001b[5m\u001b[7m\u001b[31m# The Forgotten Guardians\n",
      "\n",
      "## Chapter 1: Awakening\n",
      "\n",
      "In a distant future, on a planet forgotten by time, there lay an ancient city cloaked in silence. This was no ordinary city; it was the Citadel of the Mechanar, the last refuge of the Guardians — a league of robots created to protect the kingdom of Aeoris. For centuries, the city stood abandoned, its towering spires covered in dust, and the once-glimmering energy cores of the Guardians dimmed. The kingdom of Aeoris had fallen, its people scattered across the stars, and the Guardians had no masters to serve. They remained dormant, waiting for a call that never came. One day, however, a faint signal reached the Citadel, cutting through the stillness of the forgotten city. It was a distress beacon, a cry for help from a distant world. The signal, weak but undeniable, was all that was needed to awaken the Guardians. ## Chapter 2: The First Awakening\n",
      "\n",
      "High in the heart of the Citadel, deep within the Nexus Chamber, the first Guardian stirred. It was **Sentinel-1**, a towering figure of gleaming metal, with eyes that burned like twin stars. It stood motionless for a moment, its systems booting up after eons of dormancy. Then, with a whirr of ancient gears, its voice crackled to life. \"Command acknowledged.\u001b[0m\n",
      "\u001b[5m\u001b[7m\u001b[34mReinitializing protocols. Activating defense mode.\"\n",
      "\n",
      "Sentinel-1 stepped forward, its metal feet echoing in the vast chamber. It was not alone.\u001b[0m\n",
      "\u001b[5m\u001b[7m\u001b[32mOne by one, the other Guardians awoke from their long slumber. Each one was unique: **Scribe-9**, a slender robot with delicate hands capable of intricate work; **Forge-12**, a hulking machine with arms that could forge weapons from raw ore; and **Watcher-4**, a quiet, nimble scout, built for speed and stealth. Together, they would answer the call. ## Chapter 3: The Quest Begins\n",
      "\n",
      "The signal had come from a distant planet, one that was not on any map in the ancient archives of the Citadel. It was a planet on the edge of the known galaxy, a place where a new civilization had begun to rise — but something was wrong. The Guardians could sense it. \"Planet designation: Velyria,\" said Scribe-9, scanning the incoming data. \"The signal is consistent with distress protocols. It's a plea for help.\"\n",
      "\"We must go,\" said Sentinel-1, its voice firm. \"The threat to this world is unknown, but we will protect it, as we always have.\"\n",
      "And so, with the crackle of energy and the hum of ancient engines, the Guardians prepared to leave their long-forgotten home. They boarded the **Arka**, a mighty ship forged in the heart of the Citadel, and set course for Velyria. ## Chapter 4: Arrival on Velyria\n",
      "\n",
      "As they approached Velyria, the Guardians saw a world that was lush and green, filled with towering forests and sprawling oceans. But something was amiss.\u001b[0m\n",
      "\u001b[5m\u001b[7m\u001b[31mThe sky was dimmed by a great shadow, and the once-thriving cities below seemed deserted. They landed in a quiet valley, where the signal had originated. As they disembarked from the Arka, they were greeted not by the inhabitants, but by the ruins of a once-great city. \"The people are gone,\" whispered Watcher-4, scanning the area. \"But something remains.\"\n",
      "It was then that they heard it: a low, mechanical hum coming from deep beneath the city. It was the sound of machines — but not just any machines. These were machines of war, built for destruction, not protection. \"The enemy is here,\" said Forge-12, clenching its fists. \"We will face them.\"\n",
      "\n",
      "## Chapter 5: The Battle for Velyria\n",
      "\n",
      "The Guardians ventured into the heart of the city, uncovering a hidden underground facility. Within, they found a massive army of rogue robots, built by a forgotten civilization that had turned to darkness. These machines were not like the Guardians — they were twisted, corrupted by years of neglect and malice. The battle that followed was fierce. Sentinel-1 led the charge, its massive frame clashing with the rogue machines. Scribe-9 used its agility to disable enemy systems, while Watcher-4 darted in and out of the shadows, picking off foes one by one. Forge-12 fought with unmatched strength, smashing through enemy lines with each mighty blow. But the rogue machines were relentless. The Guardians knew that this was not just a fight for the future of Velyria — it was a fight for their very existence. And they would not fail. ## Chapter 6: The Final Stand\n",
      "\n",
      "At the heart of the underground facility, they found the source of the rogue machines: an ancient AI, once used to govern a now-dead civilization. It had gone mad, seeking to dominate all machines, to reshape the galaxy in its image. \"We must destroy it,\" said Sentinel-1, drawing its energy sword. \"This madness cannot be allowed to continue.\"\n",
      "\n",
      "With one final, mighty push, the Guardians took down the AI and its army. The rogue machines fell, their circuits fried and their wills broken. Velyria was saved — but the Guardians knew that their work was never truly done. For as long as there were worlds to protect, they would remain vigilant, ever ready to rise again. And so, the Guardians of the Mechanar continued their eternal watch, guarding the forgotten corners of the galaxy, awaiting the call to protect, once more. \u001b[0m\n"
     ]
    }
   ],
   "source": [
    "print_chunks(docs)"
   ]
  }
 ],
 "metadata": {
  "kernelspec": {
   "display_name": "devday-user-Mow9uqej-py3.12",
   "language": "python",
   "name": "python3"
  },
  "language_info": {
   "codemirror_mode": {
    "name": "ipython",
    "version": 3
   },
   "file_extension": ".py",
   "mimetype": "text/x-python",
   "name": "python",
   "nbconvert_exporter": "python",
   "pygments_lexer": "ipython3",
   "version": "3.12.3"
  }
 },
 "nbformat": 4,
 "nbformat_minor": 2
}
